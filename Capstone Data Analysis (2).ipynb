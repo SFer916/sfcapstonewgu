{
 "cells": [
  {
   "cell_type": "markdown",
   "id": "60e2186d-c1e2-4d13-a08a-102c4ff14ee7",
   "metadata": {},
   "source": [
    "Data Wrangling"
   ]
  },
  {
   "cell_type": "code",
   "execution_count": 2,
   "id": "e10d36b3-121c-447f-aa4f-79b830e623da",
   "metadata": {},
   "outputs": [],
   "source": [
    "import numpy as np\n",
    "import pandas as pd\n",
    "import random\n",
    "import matplotlib.pyplot as plt\n",
    "%matplotlib inline\n",
    "random.seed(42)"
   ]
  },
  {
   "cell_type": "code",
   "execution_count": 3,
   "id": "c52041fb-7d48-4a59-bc31-7611a7171e25",
   "metadata": {},
   "outputs": [
    {
     "data": {
      "text/html": [
       "<div>\n",
       "<style scoped>\n",
       "    .dataframe tbody tr th:only-of-type {\n",
       "        vertical-align: middle;\n",
       "    }\n",
       "\n",
       "    .dataframe tbody tr th {\n",
       "        vertical-align: top;\n",
       "    }\n",
       "\n",
       "    .dataframe thead th {\n",
       "        text-align: right;\n",
       "    }\n",
       "</style>\n",
       "<table border=\"1\" class=\"dataframe\">\n",
       "  <thead>\n",
       "    <tr style=\"text-align: right;\">\n",
       "      <th></th>\n",
       "      <th>id</th>\n",
       "      <th>imdb_id</th>\n",
       "      <th>popularity</th>\n",
       "      <th>budget</th>\n",
       "      <th>revenue</th>\n",
       "      <th>original_title</th>\n",
       "      <th>cast</th>\n",
       "      <th>homepage</th>\n",
       "      <th>director</th>\n",
       "      <th>tagline</th>\n",
       "      <th>...</th>\n",
       "      <th>overview</th>\n",
       "      <th>runtime</th>\n",
       "      <th>genres</th>\n",
       "      <th>production_companies</th>\n",
       "      <th>release_date</th>\n",
       "      <th>vote_count</th>\n",
       "      <th>vote_average</th>\n",
       "      <th>release_year</th>\n",
       "      <th>budget_adj</th>\n",
       "      <th>revenue_adj</th>\n",
       "    </tr>\n",
       "  </thead>\n",
       "  <tbody>\n",
       "    <tr>\n",
       "      <th>0</th>\n",
       "      <td>135397</td>\n",
       "      <td>tt0369610</td>\n",
       "      <td>32.985763</td>\n",
       "      <td>150000000</td>\n",
       "      <td>1513528810</td>\n",
       "      <td>Jurassic World</td>\n",
       "      <td>Chris Pratt|Bryce Dallas Howard|Irrfan Khan|Vi...</td>\n",
       "      <td>http://www.jurassicworld.com/</td>\n",
       "      <td>Colin Trevorrow</td>\n",
       "      <td>The park is open.</td>\n",
       "      <td>...</td>\n",
       "      <td>Twenty-two years after the events of Jurassic ...</td>\n",
       "      <td>124</td>\n",
       "      <td>Action|Adventure|Science Fiction|Thriller</td>\n",
       "      <td>Universal Studios|Amblin Entertainment|Legenda...</td>\n",
       "      <td>6/9/15</td>\n",
       "      <td>5562</td>\n",
       "      <td>6.5</td>\n",
       "      <td>2015</td>\n",
       "      <td>1.379999e+08</td>\n",
       "      <td>1.392446e+09</td>\n",
       "    </tr>\n",
       "    <tr>\n",
       "      <th>1</th>\n",
       "      <td>76341</td>\n",
       "      <td>tt1392190</td>\n",
       "      <td>28.419936</td>\n",
       "      <td>150000000</td>\n",
       "      <td>378436354</td>\n",
       "      <td>Mad Max: Fury Road</td>\n",
       "      <td>Tom Hardy|Charlize Theron|Hugh Keays-Byrne|Nic...</td>\n",
       "      <td>http://www.madmaxmovie.com/</td>\n",
       "      <td>George Miller</td>\n",
       "      <td>What a Lovely Day.</td>\n",
       "      <td>...</td>\n",
       "      <td>An apocalyptic story set in the furthest reach...</td>\n",
       "      <td>120</td>\n",
       "      <td>Action|Adventure|Science Fiction|Thriller</td>\n",
       "      <td>Village Roadshow Pictures|Kennedy Miller Produ...</td>\n",
       "      <td>5/13/15</td>\n",
       "      <td>6185</td>\n",
       "      <td>7.1</td>\n",
       "      <td>2015</td>\n",
       "      <td>1.379999e+08</td>\n",
       "      <td>3.481613e+08</td>\n",
       "    </tr>\n",
       "    <tr>\n",
       "      <th>2</th>\n",
       "      <td>262500</td>\n",
       "      <td>tt2908446</td>\n",
       "      <td>13.112507</td>\n",
       "      <td>110000000</td>\n",
       "      <td>295238201</td>\n",
       "      <td>Insurgent</td>\n",
       "      <td>Shailene Woodley|Theo James|Kate Winslet|Ansel...</td>\n",
       "      <td>http://www.thedivergentseries.movie/#insurgent</td>\n",
       "      <td>Robert Schwentke</td>\n",
       "      <td>One Choice Can Destroy You</td>\n",
       "      <td>...</td>\n",
       "      <td>Beatrice Prior must confront her inner demons ...</td>\n",
       "      <td>119</td>\n",
       "      <td>Adventure|Science Fiction|Thriller</td>\n",
       "      <td>Summit Entertainment|Mandeville Films|Red Wago...</td>\n",
       "      <td>3/18/15</td>\n",
       "      <td>2480</td>\n",
       "      <td>6.3</td>\n",
       "      <td>2015</td>\n",
       "      <td>1.012000e+08</td>\n",
       "      <td>2.716190e+08</td>\n",
       "    </tr>\n",
       "    <tr>\n",
       "      <th>3</th>\n",
       "      <td>140607</td>\n",
       "      <td>tt2488496</td>\n",
       "      <td>11.173104</td>\n",
       "      <td>200000000</td>\n",
       "      <td>2068178225</td>\n",
       "      <td>Star Wars: The Force Awakens</td>\n",
       "      <td>Harrison Ford|Mark Hamill|Carrie Fisher|Adam D...</td>\n",
       "      <td>http://www.starwars.com/films/star-wars-episod...</td>\n",
       "      <td>J.J. Abrams</td>\n",
       "      <td>Every generation has a story.</td>\n",
       "      <td>...</td>\n",
       "      <td>Thirty years after defeating the Galactic Empi...</td>\n",
       "      <td>136</td>\n",
       "      <td>Action|Adventure|Science Fiction|Fantasy</td>\n",
       "      <td>Lucasfilm|Truenorth Productions|Bad Robot</td>\n",
       "      <td>12/15/15</td>\n",
       "      <td>5292</td>\n",
       "      <td>7.5</td>\n",
       "      <td>2015</td>\n",
       "      <td>1.839999e+08</td>\n",
       "      <td>1.902723e+09</td>\n",
       "    </tr>\n",
       "    <tr>\n",
       "      <th>4</th>\n",
       "      <td>168259</td>\n",
       "      <td>tt2820852</td>\n",
       "      <td>9.335014</td>\n",
       "      <td>190000000</td>\n",
       "      <td>1506249360</td>\n",
       "      <td>Furious 7</td>\n",
       "      <td>Vin Diesel|Paul Walker|Jason Statham|Michelle ...</td>\n",
       "      <td>http://www.furious7.com/</td>\n",
       "      <td>James Wan</td>\n",
       "      <td>Vengeance Hits Home</td>\n",
       "      <td>...</td>\n",
       "      <td>Deckard Shaw seeks revenge against Dominic Tor...</td>\n",
       "      <td>137</td>\n",
       "      <td>Action|Crime|Thriller</td>\n",
       "      <td>Universal Pictures|Original Film|Media Rights ...</td>\n",
       "      <td>4/1/15</td>\n",
       "      <td>2947</td>\n",
       "      <td>7.3</td>\n",
       "      <td>2015</td>\n",
       "      <td>1.747999e+08</td>\n",
       "      <td>1.385749e+09</td>\n",
       "    </tr>\n",
       "  </tbody>\n",
       "</table>\n",
       "<p>5 rows × 21 columns</p>\n",
       "</div>"
      ],
      "text/plain": [
       "       id    imdb_id  popularity     budget     revenue  \\\n",
       "0  135397  tt0369610   32.985763  150000000  1513528810   \n",
       "1   76341  tt1392190   28.419936  150000000   378436354   \n",
       "2  262500  tt2908446   13.112507  110000000   295238201   \n",
       "3  140607  tt2488496   11.173104  200000000  2068178225   \n",
       "4  168259  tt2820852    9.335014  190000000  1506249360   \n",
       "\n",
       "                 original_title  \\\n",
       "0                Jurassic World   \n",
       "1            Mad Max: Fury Road   \n",
       "2                     Insurgent   \n",
       "3  Star Wars: The Force Awakens   \n",
       "4                     Furious 7   \n",
       "\n",
       "                                                cast  \\\n",
       "0  Chris Pratt|Bryce Dallas Howard|Irrfan Khan|Vi...   \n",
       "1  Tom Hardy|Charlize Theron|Hugh Keays-Byrne|Nic...   \n",
       "2  Shailene Woodley|Theo James|Kate Winslet|Ansel...   \n",
       "3  Harrison Ford|Mark Hamill|Carrie Fisher|Adam D...   \n",
       "4  Vin Diesel|Paul Walker|Jason Statham|Michelle ...   \n",
       "\n",
       "                                            homepage          director  \\\n",
       "0                      http://www.jurassicworld.com/   Colin Trevorrow   \n",
       "1                        http://www.madmaxmovie.com/     George Miller   \n",
       "2     http://www.thedivergentseries.movie/#insurgent  Robert Schwentke   \n",
       "3  http://www.starwars.com/films/star-wars-episod...       J.J. Abrams   \n",
       "4                           http://www.furious7.com/         James Wan   \n",
       "\n",
       "                         tagline  ...  \\\n",
       "0              The park is open.  ...   \n",
       "1             What a Lovely Day.  ...   \n",
       "2     One Choice Can Destroy You  ...   \n",
       "3  Every generation has a story.  ...   \n",
       "4            Vengeance Hits Home  ...   \n",
       "\n",
       "                                            overview runtime  \\\n",
       "0  Twenty-two years after the events of Jurassic ...     124   \n",
       "1  An apocalyptic story set in the furthest reach...     120   \n",
       "2  Beatrice Prior must confront her inner demons ...     119   \n",
       "3  Thirty years after defeating the Galactic Empi...     136   \n",
       "4  Deckard Shaw seeks revenge against Dominic Tor...     137   \n",
       "\n",
       "                                      genres  \\\n",
       "0  Action|Adventure|Science Fiction|Thriller   \n",
       "1  Action|Adventure|Science Fiction|Thriller   \n",
       "2         Adventure|Science Fiction|Thriller   \n",
       "3   Action|Adventure|Science Fiction|Fantasy   \n",
       "4                      Action|Crime|Thriller   \n",
       "\n",
       "                                production_companies release_date vote_count  \\\n",
       "0  Universal Studios|Amblin Entertainment|Legenda...       6/9/15       5562   \n",
       "1  Village Roadshow Pictures|Kennedy Miller Produ...      5/13/15       6185   \n",
       "2  Summit Entertainment|Mandeville Films|Red Wago...      3/18/15       2480   \n",
       "3          Lucasfilm|Truenorth Productions|Bad Robot     12/15/15       5292   \n",
       "4  Universal Pictures|Original Film|Media Rights ...       4/1/15       2947   \n",
       "\n",
       "   vote_average  release_year    budget_adj   revenue_adj  \n",
       "0           6.5          2015  1.379999e+08  1.392446e+09  \n",
       "1           7.1          2015  1.379999e+08  3.481613e+08  \n",
       "2           6.3          2015  1.012000e+08  2.716190e+08  \n",
       "3           7.5          2015  1.839999e+08  1.902723e+09  \n",
       "4           7.3          2015  1.747999e+08  1.385749e+09  \n",
       "\n",
       "[5 rows x 21 columns]"
      ]
     },
     "execution_count": 3,
     "metadata": {},
     "output_type": "execute_result"
    }
   ],
   "source": [
    "movies = pd.read_csv('tmdb-movies.csv')\n",
    "\n",
    "movies.head()"
   ]
  },
  {
   "cell_type": "code",
   "execution_count": 4,
   "id": "ff268a4e-af08-4dee-94d2-638c91f8980c",
   "metadata": {},
   "outputs": [
    {
     "name": "stdout",
     "output_type": "stream",
     "text": [
      "<class 'pandas.core.frame.DataFrame'>\n",
      "RangeIndex: 10866 entries, 0 to 10865\n",
      "Data columns (total 21 columns):\n",
      " #   Column                Non-Null Count  Dtype  \n",
      "---  ------                --------------  -----  \n",
      " 0   id                    10866 non-null  int64  \n",
      " 1   imdb_id               10856 non-null  object \n",
      " 2   popularity            10866 non-null  float64\n",
      " 3   budget                10866 non-null  int64  \n",
      " 4   revenue               10866 non-null  int64  \n",
      " 5   original_title        10866 non-null  object \n",
      " 6   cast                  10790 non-null  object \n",
      " 7   homepage              2936 non-null   object \n",
      " 8   director              10822 non-null  object \n",
      " 9   tagline               8042 non-null   object \n",
      " 10  keywords              9373 non-null   object \n",
      " 11  overview              10862 non-null  object \n",
      " 12  runtime               10866 non-null  int64  \n",
      " 13  genres                10843 non-null  object \n",
      " 14  production_companies  9836 non-null   object \n",
      " 15  release_date          10866 non-null  object \n",
      " 16  vote_count            10866 non-null  int64  \n",
      " 17  vote_average          10866 non-null  float64\n",
      " 18  release_year          10866 non-null  int64  \n",
      " 19  budget_adj            10866 non-null  float64\n",
      " 20  revenue_adj           10866 non-null  float64\n",
      "dtypes: float64(4), int64(6), object(11)\n",
      "memory usage: 1.7+ MB\n"
     ]
    }
   ],
   "source": [
    "movies.info()"
   ]
  },
  {
   "cell_type": "markdown",
   "id": "78d4bf93-e359-4bff-9991-bd79ff6c5dd5",
   "metadata": {},
   "source": [
    "Data Cleaning"
   ]
  },
  {
   "cell_type": "code",
   "execution_count": 6,
   "id": "484d8253-a239-430d-ba91-0dde368f7f8d",
   "metadata": {},
   "outputs": [],
   "source": [
    "clean_movies = movies.dropna(axis=0, how='any')"
   ]
  },
  {
   "cell_type": "code",
   "execution_count": 7,
   "id": "37506108-46d5-4a29-81d8-9b9bdfdfd0ff",
   "metadata": {},
   "outputs": [
    {
     "name": "stdout",
     "output_type": "stream",
     "text": [
      "<class 'pandas.core.frame.DataFrame'>\n",
      "Index: 1992 entries, 0 to 10819\n",
      "Data columns (total 21 columns):\n",
      " #   Column                Non-Null Count  Dtype  \n",
      "---  ------                --------------  -----  \n",
      " 0   id                    1992 non-null   int64  \n",
      " 1   imdb_id               1992 non-null   object \n",
      " 2   popularity            1992 non-null   float64\n",
      " 3   budget                1992 non-null   int64  \n",
      " 4   revenue               1992 non-null   int64  \n",
      " 5   original_title        1992 non-null   object \n",
      " 6   cast                  1992 non-null   object \n",
      " 7   homepage              1992 non-null   object \n",
      " 8   director              1992 non-null   object \n",
      " 9   tagline               1992 non-null   object \n",
      " 10  keywords              1992 non-null   object \n",
      " 11  overview              1992 non-null   object \n",
      " 12  runtime               1992 non-null   int64  \n",
      " 13  genres                1992 non-null   object \n",
      " 14  production_companies  1992 non-null   object \n",
      " 15  release_date          1992 non-null   object \n",
      " 16  vote_count            1992 non-null   int64  \n",
      " 17  vote_average          1992 non-null   float64\n",
      " 18  release_year          1992 non-null   int64  \n",
      " 19  budget_adj            1992 non-null   float64\n",
      " 20  revenue_adj           1992 non-null   float64\n",
      "dtypes: float64(4), int64(6), object(11)\n",
      "memory usage: 342.4+ KB\n"
     ]
    }
   ],
   "source": [
    "clean_movies.info()"
   ]
  },
  {
   "cell_type": "code",
   "execution_count": 8,
   "id": "8bf4aa62-b7b4-469f-83b8-63b94397c185",
   "metadata": {},
   "outputs": [],
   "source": [
    "column_drop = ['imdb_id', 'cast', 'homepage', 'director', 'tagline', 'keywords', 'overview', 'runtime', 'genres', 'production_companies', 'release_date', 'release_year', 'vote_count', 'budget_adj', 'revenue_adj', 'revenue']\n",
    "clean_movies = clean_movies.drop(column_drop, axis=1)"
   ]
  },
  {
   "cell_type": "code",
   "execution_count": 9,
   "id": "424068b6-9624-4ef5-835d-7ede30442b08",
   "metadata": {},
   "outputs": [
    {
     "data": {
      "text/html": [
       "<div>\n",
       "<style scoped>\n",
       "    .dataframe tbody tr th:only-of-type {\n",
       "        vertical-align: middle;\n",
       "    }\n",
       "\n",
       "    .dataframe tbody tr th {\n",
       "        vertical-align: top;\n",
       "    }\n",
       "\n",
       "    .dataframe thead th {\n",
       "        text-align: right;\n",
       "    }\n",
       "</style>\n",
       "<table border=\"1\" class=\"dataframe\">\n",
       "  <thead>\n",
       "    <tr style=\"text-align: right;\">\n",
       "      <th></th>\n",
       "      <th>id</th>\n",
       "      <th>popularity</th>\n",
       "      <th>budget</th>\n",
       "      <th>original_title</th>\n",
       "      <th>vote_average</th>\n",
       "    </tr>\n",
       "  </thead>\n",
       "  <tbody>\n",
       "    <tr>\n",
       "      <th>0</th>\n",
       "      <td>135397</td>\n",
       "      <td>32.985763</td>\n",
       "      <td>150000000</td>\n",
       "      <td>Jurassic World</td>\n",
       "      <td>6.5</td>\n",
       "    </tr>\n",
       "    <tr>\n",
       "      <th>1</th>\n",
       "      <td>76341</td>\n",
       "      <td>28.419936</td>\n",
       "      <td>150000000</td>\n",
       "      <td>Mad Max: Fury Road</td>\n",
       "      <td>7.1</td>\n",
       "    </tr>\n",
       "    <tr>\n",
       "      <th>2</th>\n",
       "      <td>262500</td>\n",
       "      <td>13.112507</td>\n",
       "      <td>110000000</td>\n",
       "      <td>Insurgent</td>\n",
       "      <td>6.3</td>\n",
       "    </tr>\n",
       "    <tr>\n",
       "      <th>3</th>\n",
       "      <td>140607</td>\n",
       "      <td>11.173104</td>\n",
       "      <td>200000000</td>\n",
       "      <td>Star Wars: The Force Awakens</td>\n",
       "      <td>7.5</td>\n",
       "    </tr>\n",
       "    <tr>\n",
       "      <th>4</th>\n",
       "      <td>168259</td>\n",
       "      <td>9.335014</td>\n",
       "      <td>190000000</td>\n",
       "      <td>Furious 7</td>\n",
       "      <td>7.3</td>\n",
       "    </tr>\n",
       "  </tbody>\n",
       "</table>\n",
       "</div>"
      ],
      "text/plain": [
       "       id  popularity     budget                original_title  vote_average\n",
       "0  135397   32.985763  150000000                Jurassic World           6.5\n",
       "1   76341   28.419936  150000000            Mad Max: Fury Road           7.1\n",
       "2  262500   13.112507  110000000                     Insurgent           6.3\n",
       "3  140607   11.173104  200000000  Star Wars: The Force Awakens           7.5\n",
       "4  168259    9.335014  190000000                     Furious 7           7.3"
      ]
     },
     "execution_count": 9,
     "metadata": {},
     "output_type": "execute_result"
    }
   ],
   "source": [
    "clean_movies.head()"
   ]
  },
  {
   "cell_type": "code",
   "execution_count": 10,
   "id": "b95904da-7ea4-4985-990a-c2bdc0055674",
   "metadata": {},
   "outputs": [
    {
     "name": "stdout",
     "output_type": "stream",
     "text": [
      "<class 'pandas.core.frame.DataFrame'>\n",
      "Index: 1992 entries, 0 to 10819\n",
      "Data columns (total 5 columns):\n",
      " #   Column          Non-Null Count  Dtype  \n",
      "---  ------          --------------  -----  \n",
      " 0   id              1992 non-null   int64  \n",
      " 1   popularity      1992 non-null   float64\n",
      " 2   budget          1992 non-null   int64  \n",
      " 3   original_title  1992 non-null   object \n",
      " 4   vote_average    1992 non-null   float64\n",
      "dtypes: float64(2), int64(2), object(1)\n",
      "memory usage: 93.4+ KB\n"
     ]
    }
   ],
   "source": [
    "clean_movies.info()"
   ]
  },
  {
   "cell_type": "markdown",
   "id": "3b2b0a76-da16-4d6d-898b-f9bafb763ffc",
   "metadata": {},
   "source": [
    "Data Analysis"
   ]
  },
  {
   "cell_type": "code",
   "execution_count": 12,
   "id": "e6b4636e-f677-42c2-9a57-87f343a11f33",
   "metadata": {},
   "outputs": [
    {
     "data": {
      "text/plain": [
       "Text(0, 0.5, 'Frequency')"
      ]
     },
     "execution_count": 12,
     "metadata": {},
     "output_type": "execute_result"
    },
    {
     "data": {
      "image/png": "[encoded data removed]",
      "text/plain": [
       "<Figure size 640x480 with 1 Axes>"
      ]
     },
     "metadata": {},
     "output_type": "display_data"
    }
   ],
   "source": [
    "clean_movies['vote_average'].hist()\n",
    "plt.title('Vote Averages')\n",
    "plt.xlabel('Vote Averages')\n",
    "plt.ylabel('Frequency')"
   ]
  },
  {
   "cell_type": "code",
   "execution_count": 13,
   "id": "0423f90b-ffa5-463c-8706-06aff1d0744c",
   "metadata": {},
   "outputs": [
    {
     "data": {
      "text/plain": [
       "count    1992.000000\n",
       "mean        6.178614\n",
       "std         0.881955\n",
       "min         2.100000\n",
       "25%         5.600000\n",
       "50%         6.200000\n",
       "75%         6.800000\n",
       "max         8.300000\n",
       "Name: vote_average, dtype: float64"
      ]
     },
     "execution_count": 13,
     "metadata": {},
     "output_type": "execute_result"
    }
   ],
   "source": [
    "clean_movies['vote_average'].describe()"
   ]
  },
  {
   "cell_type": "code",
   "execution_count": 14,
   "id": "91ef740c-7d88-4856-9b30-1653b5984ec2",
   "metadata": {},
   "outputs": [
    {
     "data": {
      "text/plain": [
       "count    1.992000e+03\n",
       "mean     3.454924e+07\n",
       "std      5.061878e+07\n",
       "min      0.000000e+00\n",
       "25%      0.000000e+00\n",
       "50%      1.500000e+07\n",
       "75%      4.800000e+07\n",
       "max      4.250000e+08\n",
       "Name: budget, dtype: float64"
      ]
     },
     "execution_count": 14,
     "metadata": {},
     "output_type": "execute_result"
    }
   ],
   "source": [
    "clean_movies['budget'].describe()"
   ]
  },
  {
   "cell_type": "code",
   "execution_count": 15,
   "id": "5224ad7b-f8ca-4498-9471-ea47bb4ec2df",
   "metadata": {},
   "outputs": [
    {
     "data": {
      "text/plain": [
       "Text(0, 0.5, 'Frequency')"
      ]
     },
     "execution_count": 15,
     "metadata": {},
     "output_type": "execute_result"
    },
    {
     "data": {
      "image/png": "[encoded data removed]",
      "text/plain": [
       "<Figure size 640x480 with 1 Axes>"
      ]
     },
     "metadata": {},
     "output_type": "display_data"
    }
   ],
   "source": [
    "clean_movies['budget'].hist()\n",
    "plt.title('Movie Budgets')\n",
    "plt.xlabel('Budget Amounts')\n",
    "plt.ylabel('Frequency')"
   ]
  },
  {
   "cell_type": "markdown",
   "id": "f8eb5a08-6fc6-43e2-bdfb-64a960d8261d",
   "metadata": {},
   "source": [
    "Is there a correlation between a movie's budget and its popularity?"
   ]
  },
  {
   "cell_type": "code",
   "execution_count": 17,
   "id": "02408b51-39f0-403a-b2d9-b61502dd92aa",
   "metadata": {},
   "outputs": [
    {
     "data": {
      "text/plain": [
       "Text(0, 0.5, 'Budgets')"
      ]
     },
     "execution_count": 17,
     "metadata": {},
     "output_type": "execute_result"
    },
    {
     "data": {
      "image/png": "[encoded data removed]",
      "text/plain": [
       "<Figure size 640x480 with 1 Axes>"
      ]
     },
     "metadata": {},
     "output_type": "display_data"
    }
   ],
   "source": [
    "plt.bar(clean_movies['vote_average'], clean_movies['budget'])\n",
    "plt.title('Correlation Between Vote Averages and Budget')\n",
    "plt.xlabel('Vote Averages')\n",
    "plt.ylabel('Budgets')"
   ]
  },
  {
   "cell_type": "markdown",
   "id": "c5569092-d465-4e30-a4a5-2058ab184b4e",
   "metadata": {},
   "source": [
    "Which movies were the highest rated and what were their budgets?"
   ]
  },
  {
   "cell_type": "code",
   "execution_count": 19,
   "id": "d6eb6cf1-9119-4303-bfd4-9c0879568afb",
   "metadata": {},
   "outputs": [
    {
     "name": "stdout",
     "output_type": "stream",
     "text": [
      "vote_average  original_title                      budget   \n",
      "2.1           Superbabies: Baby Geniuses 2        0            2.1\n",
      "2.2           Foodfight!                          65000000     2.2\n",
      "2.4           Jersey Shore Massacre               1400000      2.4\n",
      "              Mega Shark vs. Crocosaurus          0            2.4\n",
      "2.5           All About Anna                      0            2.5\n",
      "                                                              ... \n",
      "8.1           Kill Bill: The Whole Bloody Affair  30000000     8.1\n",
      "              Schindler's List                    22000000     8.1\n",
      "              The Dark Knight                     185000000    8.1\n",
      "8.2           Whiplash                            3300000      8.2\n",
      "8.3           The Godfather                       6000000      8.3\n",
      "Name: vote_average, Length: 1992, dtype: float64\n"
     ]
    }
   ],
   "source": [
    "vote_mean = clean_movies.groupby(['vote_average', 'original_title', 'budget'])['vote_average'].mean()\n",
    "print(vote_mean)"
   ]
  },
  {
   "cell_type": "code",
   "execution_count": 20,
   "id": "69a856bb-6d95-493b-beaf-435d25c9e8b2",
   "metadata": {},
   "outputs": [
    {
     "data": {
      "text/plain": [
       "Text(0, 0.5, 'Voting Averages')"
      ]
     },
     "execution_count": 20,
     "metadata": {},
     "output_type": "execute_result"
    },
    {
     "data": {
      "image/png": "[encoded data removed]",
      "text/plain": [
       "<Figure size 640x480 with 1 Axes>"
      ]
     },
     "metadata": {},
     "output_type": "display_data"
    }
   ],
   "source": [
    "vote_mean.tail(10).plot(kind='bar')\n",
    "plt.title('Top 10 Voting Averages by Movie and their Budgets')\n",
    "plt.xlabel('Movie Title and Budget')\n",
    "plt.ylabel('Voting Averages')"
   ]
  },
  {
   "cell_type": "code",
   "execution_count": 21,
   "id": "ec1c349a-ae15-44bf-b0e9-10bd6cd730d6",
   "metadata": {},
   "outputs": [
    {
     "data": {
      "text/plain": [
       "1992"
      ]
     },
     "execution_count": 21,
     "metadata": {},
     "output_type": "execute_result"
    }
   ],
   "source": [
    "clean_movies['id'].nunique()"
   ]
  },
  {
   "cell_type": "code",
   "execution_count": 22,
   "id": "b5d020d4-d57f-42b9-a547-5cc354176879",
   "metadata": {},
   "outputs": [
    {
     "data": {
      "text/plain": [
       "6.178614457831325"
      ]
     },
     "execution_count": 22,
     "metadata": {},
     "output_type": "execute_result"
    }
   ],
   "source": [
    "clean_movies['vote_average'].mean()"
   ]
  },
  {
   "cell_type": "code",
   "execution_count": 23,
   "id": "7f75040c-a1a6-42df-b6da-991037b58d1f",
   "metadata": {},
   "outputs": [
    {
     "data": {
      "text/plain": [
       "34549235.94076305"
      ]
     },
     "execution_count": 23,
     "metadata": {},
     "output_type": "execute_result"
    }
   ],
   "source": [
    "clean_movies['budget'].mean()"
   ]
  },
  {
   "cell_type": "code",
   "execution_count": 24,
   "id": "fb0fead4-60a4-4b4f-9d9d-e1e6406f17dc",
   "metadata": {},
   "outputs": [
    {
     "name": "stdout",
     "output_type": "stream",
     "text": [
      "       id  popularity     budget                original_title  vote_average  \\\n",
      "0  135397   32.985763  150000000                Jurassic World           6.5   \n",
      "1   76341   28.419936  150000000            Mad Max: Fury Road           7.1   \n",
      "2  262500   13.112507  110000000                     Insurgent           6.3   \n",
      "3  140607   11.173104  200000000  Star Wars: The Force Awakens           7.5   \n",
      "4  168259    9.335014  190000000                     Furious 7           7.3   \n",
      "\n",
      "   intercept  group  high votes  \n",
      "0          1      1           0  \n",
      "1          1      1           1  \n",
      "2          1      1           0  \n",
      "3          1      1           1  \n",
      "4          1      1           1  \n"
     ]
    }
   ],
   "source": [
    "import statsmodels.api as sm\n",
    "\n",
    "clean_movies['intercept'] = 1\n",
    "\n",
    "clean_movies['group'] = clean_movies['budget'].apply(lambda x: 1 if x >= 35000000 else 0)\n",
    "\n",
    "clean_movies['high votes'] = clean_movies['vote_average'].apply(lambda x: 1 if x >= 7 else 0)\n",
    "\n",
    "print(clean_movies.head())"
   ]
  },
  {
   "cell_type": "code",
   "execution_count": 25,
   "id": "cf7ee1c4-d2e5-4740-be2f-432b0cc3a521",
   "metadata": {},
   "outputs": [
    {
     "name": "stdout",
     "output_type": "stream",
     "text": [
      "Optimization terminated successfully.\n",
      "         Current function value: 0.485814\n",
      "         Iterations 5\n"
     ]
    }
   ],
   "source": [
    "logit_mod = sm.Logit(clean_movies['high votes'], clean_movies[['intercept', 'group']])\n",
    "results=logit_mod.fit()"
   ]
  },
  {
   "cell_type": "code",
   "execution_count": 26,
   "id": "e249a5ef-6241-4d08-980c-f81e83164241",
   "metadata": {},
   "outputs": [
    {
     "data": {
      "text/html": [
       "<table class=\"simpletable\">\n",
       "<tr>\n",
       "        <td>Model:</td>              <td>Logit</td>           <td>Method:</td>         <td>MLE</td>   \n",
       "</tr>\n",
       "<tr>\n",
       "  <td>Dependent Variable:</td>    <td>high votes</td>    <td>Pseudo R-squared:</td>   <td>0.000</td>  \n",
       "</tr>\n",
       "<tr>\n",
       "         <td>Date:</td>        <td>2025-04-27 22:36</td>       <td>AIC:</td>        <td>1939.4834</td>\n",
       "</tr>\n",
       "<tr>\n",
       "   <td>No. Observations:</td>        <td>1992</td>             <td>BIC:</td>        <td>1950.6771</td>\n",
       "</tr>\n",
       "<tr>\n",
       "       <td>Df Model:</td>              <td>1</td>         <td>Log-Likelihood:</td>   <td>-967.74</td> \n",
       "</tr>\n",
       "<tr>\n",
       "     <td>Df Residuals:</td>          <td>1990</td>           <td>LL-Null:</td>       <td>-967.86</td> \n",
       "</tr>\n",
       "<tr>\n",
       "      <td>Converged:</td>           <td>1.0000</td>        <td>LLR p-value:</td>     <td>0.62698</td> \n",
       "</tr>\n",
       "<tr>\n",
       "    <td>No. Iterations:</td>        <td>5.0000</td>           <td>Scale:</td>        <td>1.0000</td>  \n",
       "</tr>\n",
       "</table>\n",
       "<table class=\"simpletable\">\n",
       "<tr>\n",
       "      <td></td>       <th>Coef.</th>  <th>Std.Err.</th>     <th>z</th>     <th>P>|z|</th> <th>[0.025</th>  <th>0.975]</th> \n",
       "</tr>\n",
       "<tr>\n",
       "  <th>intercept</th> <td>-1.4709</td>  <td>0.0699</td>  <td>-21.0563</td> <td>0.0000</td> <td>-1.6078</td> <td>-1.3340</td>\n",
       "</tr>\n",
       "<tr>\n",
       "  <th>group</th>     <td>0.0591</td>   <td>0.1215</td>   <td>0.4870</td>  <td>0.6263</td> <td>-0.1789</td> <td>0.2972</td> \n",
       "</tr>\n",
       "</table><br/>\n"
      ],
      "text/latex": [
       "\\begin{table}\n",
       "\\caption{Results: Logit}\n",
       "\\label{}\n",
       "\\begin{center}\n",
       "\\begin{tabular}{llll}\n",
       "\\hline\n",
       "Model:              & Logit            & Method:           & MLE        \\\\\n",
       "Dependent Variable: & high votes       & Pseudo R-squared: & 0.000      \\\\\n",
       "Date:               & 2025-04-27 22:36 & AIC:              & 1939.4834  \\\\\n",
       "No. Observations:   & 1992             & BIC:              & 1950.6771  \\\\\n",
       "Df Model:           & 1                & Log-Likelihood:   & -967.74    \\\\\n",
       "Df Residuals:       & 1990             & LL-Null:          & -967.86    \\\\\n",
       "Converged:          & 1.0000           & LLR p-value:      & 0.62698    \\\\\n",
       "No. Iterations:     & 5.0000           & Scale:            & 1.0000     \\\\\n",
       "\\hline\n",
       "\\end{tabular}\n",
       "\\end{center}\n",
       "\n",
       "\\begin{center}\n",
       "\\begin{tabular}{lrrrrrr}\n",
       "\\hline\n",
       "          &   Coef. & Std.Err. &        z & P$> |$z$|$ &  [0.025 &  0.975]  \\\\\n",
       "\\hline\n",
       "intercept & -1.4709 &   0.0699 & -21.0563 &      0.0000 & -1.6078 & -1.3340  \\\\\n",
       "group     &  0.0591 &   0.1215 &   0.4870 &      0.6263 & -0.1789 &  0.2972  \\\\\n",
       "\\hline\n",
       "\\end{tabular}\n",
       "\\end{center}\n",
       "\\end{table}\n",
       "\\bigskip\n"
      ],
      "text/plain": [
       "<class 'statsmodels.iolib.summary2.Summary'>\n",
       "\"\"\"\n",
       "                         Results: Logit\n",
       "================================================================\n",
       "Model:              Logit            Method:           MLE      \n",
       "Dependent Variable: high votes       Pseudo R-squared: 0.000    \n",
       "Date:               2025-04-27 22:36 AIC:              1939.4834\n",
       "No. Observations:   1992             BIC:              1950.6771\n",
       "Df Model:           1                Log-Likelihood:   -967.74  \n",
       "Df Residuals:       1990             LL-Null:          -967.86  \n",
       "Converged:          1.0000           LLR p-value:      0.62698  \n",
       "No. Iterations:     5.0000           Scale:            1.0000   \n",
       "-----------------------------------------------------------------\n",
       "             Coef.   Std.Err.     z      P>|z|    [0.025   0.975]\n",
       "-----------------------------------------------------------------\n",
       "intercept   -1.4709    0.0699  -21.0563  0.0000  -1.6078  -1.3340\n",
       "group        0.0591    0.1215    0.4870  0.6263  -0.1789   0.2972\n",
       "================================================================\n",
       "\n",
       "\"\"\""
      ]
     },
     "execution_count": 26,
     "metadata": {},
     "output_type": "execute_result"
    }
   ],
   "source": [
    "results.summary2()"
   ]
  },
  {
   "cell_type": "code",
   "execution_count": null,
   "id": "42233d5f-3340-4d0d-8c2b-1ff3b74791ec",
   "metadata": {},
   "outputs": [],
   "source": []
  }
 ],
 "metadata": {
  "kernelspec": {
   "display_name": "Python 3 (ipykernel)",
   "language": "python",
   "name": "python3"
  },
  "language_info": {
   "codemirror_mode": {
    "name": "ipython",
    "version": 3
   },
   "file_extension": ".py",
   "mimetype": "text/x-python",
   "name": "python",
   "nbconvert_exporter": "python",
   "pygments_lexer": "ipython3",
   "version": "3.11.7"
  }
 },
 "nbformat": 4,
 "nbformat_minor": 5
}
